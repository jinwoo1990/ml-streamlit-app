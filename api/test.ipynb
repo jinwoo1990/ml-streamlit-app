{
 "cells": [
  {
   "cell_type": "code",
   "execution_count": 1,
   "id": "b838f612",
   "metadata": {},
   "outputs": [],
   "source": [
    "import numpy as np\n",
    "import pandas as pd"
   ]
  },
  {
   "cell_type": "code",
   "execution_count": 2,
   "id": "689fe0e1",
   "metadata": {},
   "outputs": [
    {
     "name": "stdout",
     "output_type": "stream",
     "text": [
      "2021-09-07 22:22:29 [MainThread  ] [DEBUG] [loggers.py      : 11 ] ********** logger initiated\n"
     ]
    }
   ],
   "source": [
    "import traceback\n",
    "import pickle\n",
    "import numpy as np\n",
    "from utils.data_handling import load_data, save_model_to_db\n",
    "from utils.explainer import generate_shap_explainer\n",
    "from preprocessing.preprocessing import label_target, impute_null_features, label_features, scale_features, select_features\n",
    "from classification.param_search import optimize_hyperparameters_with_random_search\n",
    "from classification.evaluation import evaluate_model\n",
    "from classification.train import train_model\n",
    "from loggers import logger"
   ]
  },
  {
   "cell_type": "code",
   "execution_count": 3,
   "id": "1d49033b",
   "metadata": {},
   "outputs": [],
   "source": [
    "source_type = 'csv'\n",
    "input_path = './train.csv'\n",
    "target_col = 'Survived'\n",
    "model_name = 'lgb'"
   ]
  },
  {
   "cell_type": "code",
   "execution_count": 6,
   "id": "ab3363e7",
   "metadata": {},
   "outputs": [
    {
     "name": "stdout",
     "output_type": "stream",
     "text": [
      "2021-09-07 22:24:22 [MainThread  ] [INFO ] [data_handling.py: 28 ] ## Load data\n",
      "2021-09-07 22:24:22 [MainThread  ] [INFO ] [data_handling.py: 44 ] raw_data: \n",
      "    PassengerId  Survived  Pclass  \\\n",
      "0            1         0       3   \n",
      "1            2         1       1   \n",
      "2            3         1       3   \n",
      "3            4         1       1   \n",
      "4            5         0       3   \n",
      "\n",
      "                                                Name     Sex   Age  SibSp  \\\n",
      "0                            Braund, Mr. Owen Harris    male  22.0      1   \n",
      "1  Cumings, Mrs. John Bradley (Florence Briggs Th...  female  38.0      1   \n",
      "2                             Heikkinen, Miss. Laina  female  26.0      0   \n",
      "3       Futrelle, Mrs. Jacques Heath (Lily May Peel)  female  35.0      1   \n",
      "4                           Allen, Mr. William Henry    male  35.0      0   \n",
      "\n",
      "   Parch            Ticket     Fare Cabin Embarked  \n",
      "0      0         A/5 21171   7.2500   NaN        S  \n",
      "1      0          PC 17599  71.2833   C85        C  \n",
      "2      0  STON/O2. 3101282   7.9250   NaN        S  \n",
      "3      0            113803  53.1000  C123        S  \n",
      "4      0            373450   8.0500   NaN        S  \n",
      "2021-09-07 22:24:22 [MainThread  ] [INFO ] [preprocessing.py: 19 ] ## Label target\n",
      "2021-09-07 22:24:22 [MainThread  ] [INFO ] [preprocessing.py: 30 ] data: \n",
      "    PassengerId  Pclass                                               Name  \\\n",
      "0            1       3                            Braund, Mr. Owen Harris   \n",
      "1            2       1  Cumings, Mrs. John Bradley (Florence Briggs Th...   \n",
      "2            3       3                             Heikkinen, Miss. Laina   \n",
      "3            4       1       Futrelle, Mrs. Jacques Heath (Lily May Peel)   \n",
      "4            5       3                           Allen, Mr. William Henry   \n",
      "\n",
      "      Sex   Age  SibSp  Parch            Ticket     Fare Cabin Embarked  \\\n",
      "0    male  22.0      1      0         A/5 21171   7.2500   NaN        S   \n",
      "1  female  38.0      1      0          PC 17599  71.2833   C85        C   \n",
      "2  female  26.0      0      0  STON/O2. 3101282   7.9250   NaN        S   \n",
      "3  female  35.0      1      0            113803  53.1000  C123        S   \n",
      "4    male  35.0      0      0            373450   8.0500   NaN        S   \n",
      "\n",
      "   target  \n",
      "0       0  \n",
      "1       1  \n",
      "2       1  \n",
      "3       1  \n",
      "4       0  \n",
      "2021-09-07 22:24:22 [MainThread  ] [INFO ] [preprocessing.py: 42 ] ## Impute null features\n",
      "2021-09-07 22:24:22 [MainThread  ] [INFO ] [preprocessing.py: 47 ] null_cols: \n",
      " ['Age', 'Embarked']\n",
      "2021-09-07 22:24:22 [MainThread  ] [INFO ] [preprocessing.py: 55 ] data: \n",
      "    Pclass     Sex   Age  SibSp  Parch     Fare Embarked  target\n",
      "0       3    male  22.0      1      0   7.2500        S       0\n",
      "1       1  female  38.0      1      0  71.2833        C       1\n",
      "2       3  female  26.0      0      0   7.9250        S       1\n",
      "3       1  female  35.0      1      0  53.1000        S       1\n",
      "4       3    male  35.0      0      0   8.0500        S       0\n",
      "2021-09-07 22:24:22 [MainThread  ] [INFO ] [1396258034.py   : 16 ] ## Create derived variables\n",
      "2021-09-07 22:24:22 [MainThread  ] [INFO ] [1396258034.py   : 22 ] data: \n",
      " ['Age', 'Embarked', 'Fare', 'Fsize', 'Pclass', 'Sex']\n",
      "2021-09-07 22:24:22 [MainThread  ] [INFO ] [preprocessing.py: 67 ] ## Label features\n",
      "2021-09-07 22:24:22 [MainThread  ] [INFO ] [preprocessing.py: 81 ] data: \n",
      "     Age  Embarked     Fare  Fsize  Pclass  Sex  target\n",
      "0  22.0       2.0   7.2500      2       3  1.0       0\n",
      "1  38.0       0.0  71.2833      2       1  0.0       1\n",
      "2  26.0       2.0   7.9250      1       3  0.0       1\n",
      "3  35.0       2.0  53.1000      2       1  0.0       1\n",
      "4  35.0       2.0   8.0500      1       3  1.0       0\n",
      "2021-09-07 22:24:22 [MainThread  ] [INFO ] [preprocessing.py: 112] ## Select features\n",
      "2021-09-07 22:24:22 [MainThread  ] [INFO ] [preprocessing.py: 113] Original feature numbers: 6\n",
      "2021-09-07 22:24:22 [MainThread  ] [INFO ] [preprocessing.py: 114] Original features name: \n",
      " ['Age', 'Embarked', 'Fare', 'Fsize', 'Pclass', 'Sex']\n",
      "2021-09-07 22:24:22 [MainThread  ] [INFO ] [preprocessing.py: 115] Categorical features name: ['Embarked', 'Sex']\n",
      "2021-09-07 22:24:22 [MainThread  ] [INFO ] [preprocessing.py: 124] VIF: \n",
      "    VIF_Factor Feature\n",
      "0    3.543904     Age\n",
      "1    1.747991    Fare\n",
      "2    2.674152   Fsize\n",
      "3    4.221322  Pclass\n",
      "2021-09-07 22:24:24 [MainThread  ] [INFO ] [preprocessing.py: 136] 6 features selected\n",
      "2021-09-07 22:24:24 [MainThread  ] [INFO ] [preprocessing.py: 137] Selected features: \n",
      " ['Age', 'Fare', 'Fsize', 'Pclass', 'Embarked', 'Sex']\n"
     ]
    }
   ],
   "source": [
    "# 데이터 불러오기\n",
    "data = load_data(source_type=source_type, input_path=input_path)\n",
    "\n",
    "# 타겟 컬럼 labeling\n",
    "data, target_dict = label_target(data=data, target_col=target_col)\n",
    "\n",
    "# 필요없는 컬럼 제거\n",
    "# TODO: 데이터마다 바뀜\n",
    "data.drop(['PassengerId', 'Name', 'Ticket', 'Cabin'], axis=1, errors='ignore', inplace=True)\n",
    "\n",
    "# null 값 impute\n",
    "data, null_converter = impute_null_features(data=data)\n",
    "\n",
    "# 파생변수 생성\n",
    "# TODO: 데이터마다 바뀜\n",
    "logger.info('## Create derived variables')\n",
    "data[\"Fsize\"] = data[\"SibSp\"] + data[\"Parch\"] + 1\n",
    "# 파생변수 생성 후 필요없는 컬럼 제거\n",
    "data = data.drop([\"SibSp\", \"Parch\"], axis=1)\n",
    "cols = list(data.columns.difference(['target'])) + ['target']\n",
    "data = data[cols]\n",
    "logger.info('data: \\n %s' % list(data.columns.difference(['target'])))\n",
    "\n",
    "# categorical features 파악\n",
    "# TODO: 데이터에 따라 직접 지정\n",
    "categorical_feats_name = [col for col in data.columns if data[col].dtype == 'object']\n",
    "\n",
    "# feature 컬럼 labeling\n",
    "# lightgbm 이 categorical feats 도 int, float 형식으로 다 바꿔야 작동하므로 일괄 적용\n",
    "data, label_encoder = label_features(data)\n",
    "\n",
    "# scaling\n",
    "if model_name in ['rf', 'xgb', 'lgb', 'catboost']:\n",
    "    pass\n",
    "else:\n",
    "    data = scale_features(data)\n",
    "\n",
    "# feature selection\n",
    "features_selected = select_features(data=data, categorical_feats_name=categorical_feats_name)\n",
    "\n",
    "# TODO: 데이터에 따라 직접 지정\n",
    "cols = features_selected + ['target']\n",
    "data = data[cols]\n",
    "categorical_feats = [idx for idx, col in enumerate(data.columns) if col in categorical_feats_name]"
   ]
  },
  {
   "cell_type": "code",
   "execution_count": 7,
   "id": "49609c86",
   "metadata": {},
   "outputs": [
    {
     "data": {
      "text/plain": [
       "[4, 5]"
      ]
     },
     "execution_count": 7,
     "metadata": {},
     "output_type": "execute_result"
    }
   ],
   "source": [
    "categorical_feats"
   ]
  },
  {
   "cell_type": "code",
   "execution_count": 8,
   "id": "627cd8f2",
   "metadata": {},
   "outputs": [],
   "source": [
    "X = data[features_selected].values\n",
    "y = data['target'].values"
   ]
  },
  {
   "cell_type": "code",
   "execution_count": 11,
   "id": "7f7ff8d3",
   "metadata": {},
   "outputs": [
    {
     "data": {
      "text/html": [
       "<div>\n",
       "<style scoped>\n",
       "    .dataframe tbody tr th:only-of-type {\n",
       "        vertical-align: middle;\n",
       "    }\n",
       "\n",
       "    .dataframe tbody tr th {\n",
       "        vertical-align: top;\n",
       "    }\n",
       "\n",
       "    .dataframe thead th {\n",
       "        text-align: right;\n",
       "    }\n",
       "</style>\n",
       "<table border=\"1\" class=\"dataframe\">\n",
       "  <thead>\n",
       "    <tr style=\"text-align: right;\">\n",
       "      <th></th>\n",
       "      <th>Age</th>\n",
       "      <th>Fare</th>\n",
       "      <th>Fsize</th>\n",
       "      <th>Pclass</th>\n",
       "      <th>Embarked</th>\n",
       "      <th>Sex</th>\n",
       "      <th>target</th>\n",
       "    </tr>\n",
       "  </thead>\n",
       "  <tbody>\n",
       "    <tr>\n",
       "      <th>0</th>\n",
       "      <td>22.0</td>\n",
       "      <td>7.2500</td>\n",
       "      <td>2</td>\n",
       "      <td>3</td>\n",
       "      <td>2.0</td>\n",
       "      <td>1.0</td>\n",
       "      <td>0</td>\n",
       "    </tr>\n",
       "    <tr>\n",
       "      <th>1</th>\n",
       "      <td>38.0</td>\n",
       "      <td>71.2833</td>\n",
       "      <td>2</td>\n",
       "      <td>1</td>\n",
       "      <td>0.0</td>\n",
       "      <td>0.0</td>\n",
       "      <td>1</td>\n",
       "    </tr>\n",
       "    <tr>\n",
       "      <th>2</th>\n",
       "      <td>26.0</td>\n",
       "      <td>7.9250</td>\n",
       "      <td>1</td>\n",
       "      <td>3</td>\n",
       "      <td>2.0</td>\n",
       "      <td>0.0</td>\n",
       "      <td>1</td>\n",
       "    </tr>\n",
       "    <tr>\n",
       "      <th>3</th>\n",
       "      <td>35.0</td>\n",
       "      <td>53.1000</td>\n",
       "      <td>2</td>\n",
       "      <td>1</td>\n",
       "      <td>2.0</td>\n",
       "      <td>0.0</td>\n",
       "      <td>1</td>\n",
       "    </tr>\n",
       "    <tr>\n",
       "      <th>4</th>\n",
       "      <td>35.0</td>\n",
       "      <td>8.0500</td>\n",
       "      <td>1</td>\n",
       "      <td>3</td>\n",
       "      <td>2.0</td>\n",
       "      <td>1.0</td>\n",
       "      <td>0</td>\n",
       "    </tr>\n",
       "    <tr>\n",
       "      <th>...</th>\n",
       "      <td>...</td>\n",
       "      <td>...</td>\n",
       "      <td>...</td>\n",
       "      <td>...</td>\n",
       "      <td>...</td>\n",
       "      <td>...</td>\n",
       "      <td>...</td>\n",
       "    </tr>\n",
       "    <tr>\n",
       "      <th>886</th>\n",
       "      <td>27.0</td>\n",
       "      <td>13.0000</td>\n",
       "      <td>1</td>\n",
       "      <td>2</td>\n",
       "      <td>2.0</td>\n",
       "      <td>1.0</td>\n",
       "      <td>0</td>\n",
       "    </tr>\n",
       "    <tr>\n",
       "      <th>887</th>\n",
       "      <td>19.0</td>\n",
       "      <td>30.0000</td>\n",
       "      <td>1</td>\n",
       "      <td>1</td>\n",
       "      <td>2.0</td>\n",
       "      <td>0.0</td>\n",
       "      <td>1</td>\n",
       "    </tr>\n",
       "    <tr>\n",
       "      <th>888</th>\n",
       "      <td>24.0</td>\n",
       "      <td>23.4500</td>\n",
       "      <td>4</td>\n",
       "      <td>3</td>\n",
       "      <td>2.0</td>\n",
       "      <td>0.0</td>\n",
       "      <td>0</td>\n",
       "    </tr>\n",
       "    <tr>\n",
       "      <th>889</th>\n",
       "      <td>26.0</td>\n",
       "      <td>30.0000</td>\n",
       "      <td>1</td>\n",
       "      <td>1</td>\n",
       "      <td>0.0</td>\n",
       "      <td>1.0</td>\n",
       "      <td>1</td>\n",
       "    </tr>\n",
       "    <tr>\n",
       "      <th>890</th>\n",
       "      <td>32.0</td>\n",
       "      <td>7.7500</td>\n",
       "      <td>1</td>\n",
       "      <td>3</td>\n",
       "      <td>1.0</td>\n",
       "      <td>1.0</td>\n",
       "      <td>0</td>\n",
       "    </tr>\n",
       "  </tbody>\n",
       "</table>\n",
       "<p>891 rows × 7 columns</p>\n",
       "</div>"
      ],
      "text/plain": [
       "      Age     Fare  Fsize  Pclass  Embarked  Sex  target\n",
       "0    22.0   7.2500      2       3       2.0  1.0       0\n",
       "1    38.0  71.2833      2       1       0.0  0.0       1\n",
       "2    26.0   7.9250      1       3       2.0  0.0       1\n",
       "3    35.0  53.1000      2       1       2.0  0.0       1\n",
       "4    35.0   8.0500      1       3       2.0  1.0       0\n",
       "..    ...      ...    ...     ...       ...  ...     ...\n",
       "886  27.0  13.0000      1       2       2.0  1.0       0\n",
       "887  19.0  30.0000      1       1       2.0  0.0       1\n",
       "888  24.0  23.4500      4       3       2.0  0.0       0\n",
       "889  26.0  30.0000      1       1       0.0  1.0       1\n",
       "890  32.0   7.7500      1       3       1.0  1.0       0\n",
       "\n",
       "[891 rows x 7 columns]"
      ]
     },
     "execution_count": 11,
     "metadata": {},
     "output_type": "execute_result"
    }
   ],
   "source": [
    "data"
   ]
  },
  {
   "cell_type": "code",
   "execution_count": 9,
   "id": "689037b9",
   "metadata": {},
   "outputs": [
    {
     "data": {
      "text/plain": [
       "array([[22.    ,  7.25  ,  2.    ,  3.    ,  2.    ,  1.    ],\n",
       "       [38.    , 71.2833,  2.    ,  1.    ,  0.    ,  0.    ],\n",
       "       [26.    ,  7.925 ,  1.    ,  3.    ,  2.    ,  0.    ],\n",
       "       ...,\n",
       "       [24.    , 23.45  ,  4.    ,  3.    ,  2.    ,  0.    ],\n",
       "       [26.    , 30.    ,  1.    ,  1.    ,  0.    ,  1.    ],\n",
       "       [32.    ,  7.75  ,  1.    ,  3.    ,  1.    ,  1.    ]])"
      ]
     },
     "execution_count": 9,
     "metadata": {},
     "output_type": "execute_result"
    }
   ],
   "source": [
    "X"
   ]
  },
  {
   "cell_type": "code",
   "execution_count": 10,
   "id": "c9d54266",
   "metadata": {},
   "outputs": [
    {
     "data": {
      "text/plain": [
       "array([0, 1, 1, 1, 0, 0, 0, 0, 1, 1, 1, 1, 0, 0, 0, 1, 0, 1, 0, 1, 0, 1,\n",
       "       1, 1, 0, 1, 0, 0, 1, 0, 0, 1, 1, 0, 0, 0, 1, 0, 0, 1, 0, 0, 0, 1,\n",
       "       1, 0, 0, 1, 0, 0, 0, 0, 1, 1, 0, 1, 1, 0, 1, 0, 0, 1, 0, 0, 0, 1,\n",
       "       1, 0, 1, 0, 0, 0, 0, 0, 1, 0, 0, 0, 1, 1, 0, 1, 1, 0, 1, 1, 0, 0,\n",
       "       1, 0, 0, 0, 0, 0, 0, 0, 0, 1, 1, 0, 0, 0, 0, 0, 0, 0, 1, 1, 0, 1,\n",
       "       0, 0, 0, 0, 0, 0, 0, 0, 0, 0, 0, 0, 0, 1, 0, 1, 0, 1, 1, 0, 0, 0,\n",
       "       0, 1, 0, 0, 1, 0, 0, 0, 0, 1, 1, 0, 0, 0, 1, 0, 0, 0, 0, 1, 0, 0,\n",
       "       0, 0, 1, 0, 0, 0, 0, 1, 0, 0, 0, 1, 1, 0, 0, 0, 0, 0, 1, 0, 0, 0,\n",
       "       0, 0, 0, 0, 0, 0, 0, 1, 1, 0, 1, 1, 0, 0, 1, 0, 1, 1, 1, 1, 0, 0,\n",
       "       1, 0, 0, 0, 0, 0, 1, 0, 0, 1, 1, 1, 0, 1, 0, 0, 0, 1, 1, 0, 1, 0,\n",
       "       1, 0, 0, 0, 1, 0, 1, 0, 0, 0, 1, 0, 0, 1, 0, 0, 0, 1, 0, 0, 0, 1,\n",
       "       0, 0, 0, 0, 0, 1, 1, 0, 0, 0, 0, 0, 0, 1, 1, 1, 1, 1, 0, 1, 0, 0,\n",
       "       0, 0, 0, 1, 1, 1, 0, 1, 1, 0, 1, 1, 0, 0, 0, 1, 0, 0, 0, 1, 0, 0,\n",
       "       1, 0, 1, 1, 1, 1, 0, 0, 0, 0, 0, 0, 1, 1, 1, 1, 0, 1, 0, 1, 1, 1,\n",
       "       0, 1, 1, 1, 0, 0, 0, 1, 1, 0, 1, 1, 0, 0, 1, 1, 0, 1, 0, 1, 1, 1,\n",
       "       1, 0, 0, 0, 1, 0, 0, 1, 1, 0, 1, 1, 0, 0, 0, 1, 1, 1, 1, 0, 0, 0,\n",
       "       0, 0, 0, 0, 1, 0, 1, 1, 0, 0, 0, 0, 0, 0, 1, 1, 1, 1, 1, 0, 0, 0,\n",
       "       0, 1, 1, 0, 0, 0, 1, 1, 0, 1, 0, 0, 0, 1, 0, 1, 1, 1, 0, 1, 1, 0,\n",
       "       0, 0, 0, 1, 1, 0, 0, 0, 0, 0, 0, 1, 0, 0, 0, 0, 1, 0, 1, 0, 1, 1,\n",
       "       0, 0, 0, 0, 0, 0, 0, 0, 1, 1, 0, 1, 1, 1, 1, 0, 0, 1, 0, 1, 0, 0,\n",
       "       1, 0, 0, 1, 1, 1, 1, 1, 1, 1, 0, 0, 0, 1, 0, 1, 0, 1, 1, 0, 1, 0,\n",
       "       0, 0, 0, 0, 0, 0, 0, 1, 0, 0, 1, 1, 0, 0, 0, 0, 0, 1, 0, 0, 0, 1,\n",
       "       1, 0, 1, 0, 0, 1, 0, 0, 0, 0, 0, 0, 1, 0, 0, 0, 0, 0, 0, 0, 1, 0,\n",
       "       1, 1, 0, 1, 1, 0, 1, 1, 0, 0, 1, 0, 1, 0, 1, 0, 0, 1, 0, 0, 1, 0,\n",
       "       0, 0, 1, 0, 0, 1, 0, 1, 0, 1, 0, 1, 1, 0, 0, 1, 0, 0, 1, 1, 0, 1,\n",
       "       1, 0, 0, 1, 1, 0, 1, 0, 1, 1, 0, 0, 0, 0, 0, 0, 0, 0, 0, 1, 1, 1,\n",
       "       1, 1, 0, 0, 1, 1, 0, 1, 1, 1, 0, 0, 0, 1, 0, 1, 0, 0, 0, 1, 0, 0,\n",
       "       0, 0, 1, 0, 0, 1, 1, 0, 0, 0, 1, 0, 0, 1, 1, 1, 0, 0, 1, 0, 0, 1,\n",
       "       0, 0, 1, 0, 0, 1, 1, 0, 0, 0, 0, 1, 0, 0, 1, 0, 1, 0, 0, 1, 0, 0,\n",
       "       0, 0, 0, 1, 0, 1, 1, 1, 0, 1, 0, 1, 0, 1, 0, 1, 0, 0, 0, 0, 0, 0,\n",
       "       1, 0, 0, 0, 1, 0, 0, 0, 0, 1, 1, 0, 0, 1, 0, 0, 0, 1, 0, 1, 0, 1,\n",
       "       0, 0, 0, 0, 0, 0, 0, 1, 1, 1, 1, 0, 0, 0, 0, 1, 0, 0, 1, 1, 0, 0,\n",
       "       0, 0, 1, 1, 1, 1, 1, 0, 1, 0, 0, 0, 1, 1, 0, 0, 1, 0, 0, 0, 1, 0,\n",
       "       1, 1, 0, 0, 1, 0, 0, 0, 0, 0, 0, 1, 0, 0, 1, 0, 1, 0, 1, 0, 0, 1,\n",
       "       0, 0, 1, 1, 0, 0, 1, 1, 0, 0, 0, 1, 0, 0, 1, 1, 0, 1, 0, 0, 0, 0,\n",
       "       0, 0, 0, 0, 1, 0, 0, 1, 0, 1, 1, 1, 0, 0, 0, 0, 1, 0, 1, 0, 0, 0,\n",
       "       0, 0, 0, 0, 1, 1, 0, 0, 0, 1, 1, 1, 1, 0, 0, 0, 0, 1, 0, 0, 0, 0,\n",
       "       0, 0, 0, 0, 0, 0, 1, 1, 0, 1, 0, 0, 0, 1, 1, 1, 1, 1, 0, 0, 0, 1,\n",
       "       0, 0, 1, 1, 0, 0, 1, 0, 0, 0, 0, 0, 0, 1, 0, 0, 0, 1, 0, 1, 1, 1,\n",
       "       1, 0, 0, 0, 1, 0, 0, 1, 1, 0, 0, 1, 0, 1, 0, 0, 1, 1, 0, 0, 0, 1,\n",
       "       1, 0, 0, 0, 0, 0, 0, 1, 0, 1, 0])"
      ]
     },
     "execution_count": 10,
     "metadata": {},
     "output_type": "execute_result"
    }
   ],
   "source": [
    "y"
   ]
  },
  {
   "cell_type": "code",
   "execution_count": null,
   "id": "bea3dde5",
   "metadata": {},
   "outputs": [],
   "source": [
    "vif"
   ]
  },
  {
   "cell_type": "code",
   "execution_count": null,
   "id": "d63eb9c2",
   "metadata": {},
   "outputs": [],
   "source": [
    "categorical_feats"
   ]
  },
  {
   "cell_type": "code",
   "execution_count": null,
   "id": "56ed93c6",
   "metadata": {},
   "outputs": [],
   "source": [
    "cols = list(data.columns.difference(['target'])) + ['target']"
   ]
  },
  {
   "cell_type": "code",
   "execution_count": null,
   "id": "a812e253",
   "metadata": {},
   "outputs": [],
   "source": [
    "data"
   ]
  },
  {
   "cell_type": "code",
   "execution_count": null,
   "id": "f3e79792",
   "metadata": {},
   "outputs": [],
   "source": [
    "data[cols]"
   ]
  },
  {
   "cell_type": "code",
   "execution_count": null,
   "id": "2da10508",
   "metadata": {},
   "outputs": [],
   "source": [
    "data"
   ]
  },
  {
   "cell_type": "code",
   "execution_count": null,
   "id": "45054425",
   "metadata": {},
   "outputs": [],
   "source": [
    "X"
   ]
  },
  {
   "cell_type": "code",
   "execution_count": null,
   "id": "159df2ab",
   "metadata": {},
   "outputs": [],
   "source": [
    "data.columns"
   ]
  },
  {
   "cell_type": "code",
   "execution_count": null,
   "id": "6fae64c2",
   "metadata": {},
   "outputs": [],
   "source": [
    "data.iloc[:, [1,4]]"
   ]
  },
  {
   "cell_type": "code",
   "execution_count": null,
   "id": "a2678205",
   "metadata": {},
   "outputs": [],
   "source": [
    "X[:, [1,4]]"
   ]
  },
  {
   "cell_type": "code",
   "execution_count": null,
   "id": "c42d6b22",
   "metadata": {},
   "outputs": [],
   "source": [
    "X.type"
   ]
  },
  {
   "cell_type": "markdown",
   "id": "bd4d2e9f",
   "metadata": {},
   "source": [
    "#### Catboost 예제"
   ]
  },
  {
   "cell_type": "code",
   "execution_count": null,
   "id": "e89bb424",
   "metadata": {},
   "outputs": [],
   "source": [
    "from catboost import CatBoostRegressor\n",
    "\n",
    "cat_features = [0, 1, 2]\n",
    "train_data = [[\"a\", \"b\", 1, 4, 5, 6], [\"a\", \"b\", 4, 5, 6, 7]]\n",
    "\n",
    "train_labels = [10, 20]\n",
    "\n",
    "model = CatBoostRegressor(iterations=2, learning_rate=1, depth=2)\n",
    "\n",
    "model.fit(train_data, train_labels, cat_features)"
   ]
  },
  {
   "cell_type": "code",
   "execution_count": null,
   "id": "ee3d4bd6",
   "metadata": {},
   "outputs": [],
   "source": [
    "model.predict(train_data)"
   ]
  },
  {
   "cell_type": "code",
   "execution_count": null,
   "id": "a248d619",
   "metadata": {},
   "outputs": [],
   "source": []
  }
 ],
 "metadata": {
  "kernelspec": {
   "display_name": "jupyter-ml",
   "language": "python",
   "name": "ml"
  },
  "language_info": {
   "codemirror_mode": {
    "name": "ipython",
    "version": 3
   },
   "file_extension": ".py",
   "mimetype": "text/x-python",
   "name": "python",
   "nbconvert_exporter": "python",
   "pygments_lexer": "ipython3",
   "version": "3.7.1"
  }
 },
 "nbformat": 4,
 "nbformat_minor": 5
}
