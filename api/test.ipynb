{
 "cells": [
  {
   "cell_type": "code",
   "execution_count": null,
   "id": "86c981af",
   "metadata": {},
   "outputs": [],
   "source": [
    "import numpy as np\n",
    "import pandas as pd"
   ]
  },
  {
   "cell_type": "code",
   "execution_count": null,
   "id": "2f05998a",
   "metadata": {},
   "outputs": [],
   "source": [
    "import traceback\n",
    "import pickle\n",
    "import numpy as np\n",
    "from utils.data_handling import load_data, save_model_to_db\n",
    "from utils.explainer import generate_shap_explainer\n",
    "from preprocessing.preprocessing import label_target, impute_null_features, label_features, scale_features, select_features\n",
    "from classification.param_search import optimize_hyperparameters_with_random_search\n",
    "from classification.evaluation import evaluate_model\n",
    "from classification.train import train_model\n",
    "from loggers import logger"
   ]
  },
  {
   "cell_type": "code",
   "execution_count": null,
   "id": "2aa2439f",
   "metadata": {},
   "outputs": [],
   "source": [
    "source_type = 'csv'\n",
    "input_path = './train.csv'\n",
    "target_col = 'Survived'\n",
    "model_name = 'lgb'"
   ]
  },
  {
   "cell_type": "code",
   "execution_count": null,
   "id": "db1a1da0",
   "metadata": {},
   "outputs": [],
   "source": [
    "# 데이터 불러오기\n",
    "data = load_data(source_type=source_type, input_path=input_path)\n",
    "\n",
    "# 타겟 컬럼 labeling\n",
    "data, target_dict = label_target(data=data, target_col=target_col)\n",
    "\n",
    "# 필요없는 컬럼 제거\n",
    "# TODO: 데이터마다 바뀜\n",
    "data.drop(['PassengerId', 'Name', 'Ticket', 'Cabin'], axis=1, errors='ignore', inplace=True)\n",
    "\n",
    "# null 값 impute\n",
    "data, null_converter = impute_null_features(data=data)\n",
    "\n",
    "# 파생변수 생성\n",
    "# TODO: 데이터마다 바뀜\n",
    "logger.info('## Create derived variables')\n",
    "data[\"Fsize\"] = data[\"SibSp\"] + data[\"Parch\"] + 1\n",
    "# 파생변수 생성 후 필요없는 컬럼 제거\n",
    "data = data.drop([\"SibSp\", \"Parch\"], axis=1)\n",
    "cols = list(data.columns.difference(['target'])) + ['target']\n",
    "data = data[cols]\n",
    "logger.info('data: \\n %s' % list(data.columns.difference(['target'])))\n",
    "\n",
    "# categorical features 파악\n",
    "# TODO: 데이터에 따라 직접 지정\n",
    "categorical_feats_name = [col for col in data.columns if data[col].dtype == 'object']\n",
    "\n",
    "# feature 컬럼 labeling\n",
    "# lightgbm 이 categorical feats 도 int, float 형식으로 다 바꿔야 작동하므로 일괄 적용\n",
    "data, label_encoder = label_features(data)\n",
    "\n",
    "# scaling\n",
    "if model_name in ['rf', 'xgb', 'lgb', 'catboost']:\n",
    "    pass\n",
    "else:\n",
    "    data = scale_features(data)\n",
    "\n",
    "# feature selection\n",
    "features_selected = select_features(data=data, categorical_feats_name=categorical_feats_name)\n",
    "\n",
    "# TODO: 데이터에 따라 직접 지정\n",
    "cols = features_selected + ['target']\n",
    "data = data[cols]\n",
    "categorical_feats = [idx for idx, col in enumerate(data.columns) if col in categorical_feats_name]"
   ]
  },
  {
   "cell_type": "code",
   "execution_count": null,
   "id": "d18c5429",
   "metadata": {},
   "outputs": [],
   "source": [
    "categorical_feats"
   ]
  },
  {
   "cell_type": "code",
   "execution_count": null,
   "id": "c5742e4b",
   "metadata": {},
   "outputs": [],
   "source": [
    "X = data[features_selected].values\n",
    "y = data['target'].values"
   ]
  },
  {
   "cell_type": "code",
   "execution_count": null,
   "id": "6fe992a4",
   "metadata": {},
   "outputs": [],
   "source": [
    "data"
   ]
  },
  {
   "cell_type": "code",
   "execution_count": null,
   "id": "2f1504ec",
   "metadata": {},
   "outputs": [],
   "source": [
    "X"
   ]
  },
  {
   "cell_type": "code",
   "execution_count": null,
   "id": "3ac9633f",
   "metadata": {},
   "outputs": [],
   "source": [
    "y"
   ]
  },
  {
   "cell_type": "code",
   "execution_count": null,
   "id": "e89f7711",
   "metadata": {},
   "outputs": [],
   "source": [
    "vif"
   ]
  },
  {
   "cell_type": "code",
   "execution_count": null,
   "id": "c244dc6b",
   "metadata": {},
   "outputs": [],
   "source": [
    "categorical_feats"
   ]
  },
  {
   "cell_type": "code",
   "execution_count": null,
   "id": "5349c53b",
   "metadata": {},
   "outputs": [],
   "source": [
    "cols = list(data.columns.difference(['target'])) + ['target']"
   ]
  },
  {
   "cell_type": "code",
   "execution_count": null,
   "id": "5af688ea",
   "metadata": {},
   "outputs": [],
   "source": [
    "data"
   ]
  },
  {
   "cell_type": "code",
   "execution_count": null,
   "id": "2a39bd13",
   "metadata": {},
   "outputs": [],
   "source": [
    "data[cols]"
   ]
  },
  {
   "cell_type": "code",
   "execution_count": null,
   "id": "8c895f46",
   "metadata": {},
   "outputs": [],
   "source": [
    "data"
   ]
  },
  {
   "cell_type": "code",
   "execution_count": null,
   "id": "7b4dc1d1",
   "metadata": {},
   "outputs": [],
   "source": [
    "X"
   ]
  },
  {
   "cell_type": "code",
   "execution_count": null,
   "id": "07b88ce8",
   "metadata": {},
   "outputs": [],
   "source": [
    "data.columns"
   ]
  },
  {
   "cell_type": "code",
   "execution_count": null,
   "id": "e9d2a980",
   "metadata": {},
   "outputs": [],
   "source": [
    "data.iloc[:, [1,4]]"
   ]
  },
  {
   "cell_type": "code",
   "execution_count": null,
   "id": "7e12c841",
   "metadata": {},
   "outputs": [],
   "source": [
    "X[:, [1,4]]"
   ]
  },
  {
   "cell_type": "code",
   "execution_count": null,
   "id": "89dbcbfc",
   "metadata": {},
   "outputs": [],
   "source": [
    "X.type"
   ]
  },
  {
   "cell_type": "markdown",
   "id": "12f44278",
   "metadata": {},
   "source": [
    "#### Catboost 예제"
   ]
  },
  {
   "cell_type": "code",
   "execution_count": null,
   "id": "1b421e27",
   "metadata": {},
   "outputs": [],
   "source": [
    "from catboost import CatBoostRegressor\n",
    "\n",
    "cat_features = [0, 1, 2]\n",
    "train_data = [[\"a\", \"b\", 1, 4, 5, 6], [\"a\", \"b\", 4, 5, 6, 7]]\n",
    "\n",
    "train_labels = [10, 20]\n",
    "\n",
    "model = CatBoostRegressor(iterations=2, learning_rate=1, depth=2)\n",
    "\n",
    "model.fit(train_data, train_labels, cat_features)"
   ]
  },
  {
   "cell_type": "code",
   "execution_count": null,
   "id": "d3fe6f19",
   "metadata": {},
   "outputs": [],
   "source": [
    "model.predict(train_data)"
   ]
  },
  {
   "cell_type": "code",
   "execution_count": null,
   "id": "55740f65",
   "metadata": {},
   "outputs": [],
   "source": []
  },
  {
   "cell_type": "code",
   "execution_count": null,
   "id": "bee59f9f",
   "metadata": {},
   "outputs": [],
   "source": []
  },
  {
   "cell_type": "markdown",
   "id": "5445c9f6",
   "metadata": {},
   "source": [
    "#### AWS test"
   ]
  },
  {
   "cell_type": "code",
   "execution_count": null,
   "id": "5a6336ef",
   "metadata": {},
   "outputs": [],
   "source": [
    "import pickle"
   ]
  },
  {
   "cell_type": "code",
   "execution_count": null,
   "id": "89ac3fb5",
   "metadata": {},
   "outputs": [],
   "source": [
    "with open('qq.pkl', 'rb') as f:\n",
    "    content = pickle.load(f)"
   ]
  },
  {
   "cell_type": "code",
   "execution_count": null,
   "id": "be3082eb",
   "metadata": {},
   "outputs": [],
   "source": [
    "content"
   ]
  },
  {
   "cell_type": "code",
   "execution_count": null,
   "id": "078a8ff2",
   "metadata": {},
   "outputs": [],
   "source": [
    "content['fitted_model']"
   ]
  },
  {
   "cell_type": "code",
   "execution_count": null,
   "id": "5fa63a72",
   "metadata": {},
   "outputs": [],
   "source": [
    "content['explainer']"
   ]
  },
  {
   "cell_type": "code",
   "execution_count": null,
   "id": "3a40a87e",
   "metadata": {},
   "outputs": [],
   "source": [
    "'s3://ml-streamlit/model_objects.pkl'"
   ]
  },
  {
   "cell_type": "code",
   "execution_count": null,
   "id": "fe96165a",
   "metadata": {},
   "outputs": [],
   "source": [
    "import os\n",
    "\n",
    "os.getcwd()"
   ]
  },
  {
   "cell_type": "code",
   "execution_count": null,
   "id": "abec2fa7",
   "metadata": {},
   "outputs": [],
   "source": [
    "with open('qqqq.pkl', 'wb') as handle:\n",
    "    pickle.dump(content['fitted_model'], handle, protocol=pickle.HIGHEST_PROTOCOL)"
   ]
  },
  {
   "cell_type": "code",
   "execution_count": null,
   "id": "06efad4f",
   "metadata": {},
   "outputs": [],
   "source": [
    "with open('qqqq.pkl', 'rb') as handle:\n",
    "    result = pickle.load(handle)"
   ]
  },
  {
   "cell_type": "code",
   "execution_count": null,
   "id": "88cf020b",
   "metadata": {},
   "outputs": [],
   "source": [
    "result"
   ]
  },
  {
   "cell_type": "code",
   "execution_count": null,
   "id": "e2039411",
   "metadata": {},
   "outputs": [],
   "source": [
    "fitted_model"
   ]
  },
  {
   "cell_type": "code",
   "execution_count": null,
   "id": "b680371a",
   "metadata": {},
   "outputs": [],
   "source": [
    "with open('sample.pkl', 'rb') as f:\n",
    "    a = pickle.load(f)"
   ]
  },
  {
   "cell_type": "code",
   "execution_count": null,
   "id": "52941ea2",
   "metadata": {},
   "outputs": [],
   "source": [
    "a['fitted_model']"
   ]
  },
  {
   "cell_type": "code",
   "execution_count": null,
   "id": "21ff1312",
   "metadata": {},
   "outputs": [],
   "source": [
    "import boto3\n",
    "\n",
    "os.environ['AWS_DEFAULT_REGION'] = 'ap-northeast-2'  # 서울 리전\n",
    "os.environ['AWS_PROFILE'] = \"ml-streamlit\"\n",
    "\n",
    "s3 = boto3.client('s3')\n",
    "with open('asdf', 'wb') as f:\n",
    "    s3.download_fileobj('ml-streamlit', 'model_objects.pkl', f)"
   ]
  },
  {
   "cell_type": "code",
   "execution_count": null,
   "id": "218766f3",
   "metadata": {},
   "outputs": [],
   "source": [
    "s3.download_file('ml-streamlit', 'model_objects.pkl', 'qq.pkl')"
   ]
  },
  {
   "cell_type": "code",
   "execution_count": null,
   "id": "b5a7f47a",
   "metadata": {},
   "outputs": [],
   "source": [
    "with open('asdf', 'rb') as f:\n",
    "    c = pickle.load(f)"
   ]
  },
  {
   "cell_type": "code",
   "execution_count": null,
   "id": "4b1512f3",
   "metadata": {},
   "outputs": [],
   "source": [
    "c"
   ]
  },
  {
   "cell_type": "code",
   "execution_count": null,
   "id": "703cc831",
   "metadata": {},
   "outputs": [],
   "source": [
    "from utils.data_handling import read_from_s3, write_to_s3"
   ]
  },
  {
   "cell_type": "code",
   "execution_count": null,
   "id": "3c47a660",
   "metadata": {},
   "outputs": [],
   "source": [
    "model_objects = read_from_s3('s3://ml-streamlit/model_objects.pkl')"
   ]
  },
  {
   "cell_type": "code",
   "execution_count": null,
   "id": "40a5efe9",
   "metadata": {},
   "outputs": [],
   "source": [
    "model_objects"
   ]
  },
  {
   "cell_type": "code",
   "execution_count": null,
   "id": "b5d3f6aa",
   "metadata": {},
   "outputs": [],
   "source": [
    "write_to_s3(model_objects, 's3://ml-streamlit/model_objects_99.pkl')"
   ]
  },
  {
   "cell_type": "code",
   "execution_count": null,
   "id": "9fb202b4",
   "metadata": {},
   "outputs": [],
   "source": [
    "aaa = read_from_s3('s3://ml-streamlit/model_objects_99.pkl')"
   ]
  },
  {
   "cell_type": "code",
   "execution_count": null,
   "id": "3e4b373b",
   "metadata": {},
   "outputs": [],
   "source": [
    "aaa"
   ]
  },
  {
   "cell_type": "code",
   "execution_count": null,
   "id": "40db85af",
   "metadata": {},
   "outputs": [],
   "source": [
    "import pymongo\n",
    "import os\n",
    "\n",
    "DB_USERNAME = os.environ.get('MONGO_USERNAME', 'root')\n",
    "DB_PASSWORD = os.environ.get('MONGO_PASSWORD', 'root')\n",
    "DB_HOST = os.environ.get('MONGO_HOST', 'localhost')\n",
    "DB_PORT = os.environ.get('MONGO_PORT', '27017')\n",
    "CONN_STR = \"mongodb://%s:%s@%s:%s\" % (DB_USERNAME, DB_PASSWORD, DB_HOST, DB_PORT)\n",
    "DB_DATABASE_NAME = os.environ.get('MONGO_INITDB_DATABASE', 'ml')\n",
    "DB_MODEL_COLLECTION_NAME = os.environ.get('MONGO_MODEL_COLLECTION_NAME', 'model')\n",
    "DB_DATA_COLLECTION_NAME = os.environ.get('MONGO_DATA_COLLECTION_NAME', 'data')\n",
    "\n",
    "client = pymongo.MongoClient(CONN_STR)\n",
    "database = client[DB_DATABASE_NAME]\n",
    "collection = database[DB_MODEL_COLLECTION_NAME]\n",
    "\n",
    "cursor = collection.find()\n",
    "result = list(cursor)"
   ]
  },
  {
   "cell_type": "code",
   "execution_count": null,
   "id": "7d2f8f1a",
   "metadata": {},
   "outputs": [],
   "source": [
    "result"
   ]
  },
  {
   "cell_type": "code",
   "execution_count": null,
   "id": "014468f7",
   "metadata": {},
   "outputs": [],
   "source": [
    "import pickle\n",
    "\n",
    "with open('model_objects.pkl', 'rb') as f:\n",
    "    c = pickle.load(f)"
   ]
  },
  {
   "cell_type": "code",
   "execution_count": null,
   "id": "2f0b0cbf",
   "metadata": {
    "scrolled": true
   },
   "outputs": [],
   "source": [
    "c"
   ]
  },
  {
   "cell_type": "code",
   "execution_count": null,
   "id": "cca83c0a",
   "metadata": {},
   "outputs": [],
   "source": []
  }
 ],
 "metadata": {
  "kernelspec": {
   "display_name": "jupyter-ml",
   "language": "python",
   "name": "ml"
  },
  "language_info": {
   "codemirror_mode": {
    "name": "ipython",
    "version": 3
   },
   "file_extension": ".py",
   "mimetype": "text/x-python",
   "name": "python",
   "nbconvert_exporter": "python",
   "pygments_lexer": "ipython3",
   "version": "3.7.1"
  }
 },
 "nbformat": 4,
 "nbformat_minor": 5
}
